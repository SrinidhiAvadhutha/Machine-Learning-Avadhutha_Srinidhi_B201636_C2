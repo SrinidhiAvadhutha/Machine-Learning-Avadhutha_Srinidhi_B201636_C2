{
 "cells": [
  {
   "cell_type": "code",
   "execution_count": 6,
   "id": "02047855-2200-4703-8b5d-5b3b39e62023",
   "metadata": {},
   "outputs": [],
   "source": [
    "# Import the Necessary Libraries\n",
    "import pandas as pd\n",
    "import numpy as np\n",
    "import matplotlib.pyplot as plt\n",
    "import seaborn as sns\n",
    "from sklearn.model_selection import train_test_split\n",
    "from sklearn.tree import DecisionTreeClassifier, plot_tree\n",
    "from sklearn.metrics import confusion_matrix, classification_report, accuracy_score\n",
    "import seaborn as sns"
   ]
  },
  {
   "cell_type": "code",
   "execution_count": 5,
   "id": "41ddd1b6-6591-423a-b1ca-08ad7a62465e",
   "metadata": {},
   "outputs": [],
   "source": [
    "# Load Titanic dataset from seaborn\n",
    "titanic = sns.load_dataset('titanic')\n",
    "# Split into train and test sets (seaborn only provides one combined dataset)\n",
    "\n",
    "train = titanic\n",
    "test = titanic.sample(frac=0.3)  # Creating a dummy test set\n",
    "\n",
    "# Continue with your original code...\n",
    "from sklearn.preprocessing import LabelEncoder\n"
   ]
  },
  {
   "cell_type": "code",
   "execution_count": null,
   "id": "6bd38c73-9a14-4046-9eac-a213af5abc3d",
   "metadata": {},
   "outputs": [],
   "source": [
    "# Load the data sets- train and test \n",
    "train = pd.read_csv('train.csv')\n",
    "test = pd.read_csv('test.csv')"
   ]
  },
  {
   "cell_type": "code",
   "execution_count": null,
   "id": "a452ee55-2b83-4f6e-b1c2-b39f36caf2c4",
   "metadata": {},
   "outputs": [],
   "source": [
    "# Look at top values of train data \n",
    "print(train.head())"
   ]
  },
  {
   "cell_type": "code",
   "execution_count": null,
   "id": "0544d102-59f0-4ec0-a830-7c24141d53b9",
   "metadata": {},
   "outputs": [],
   "source": [
    "# Print the column names of train data\n",
    "print(train.columns.tolist())\n"
   ]
  },
  {
   "cell_type": "code",
   "execution_count": null,
   "id": "bc7abd35-9b98-41ae-a242-5798b67bad5f",
   "metadata": {},
   "outputs": [],
   "source": [
    "# Print the dimension of train and test data\n",
    "print(f\"Train data dimensions: {train.shape}\")\n",
    "print(f\"Test data dimensions: {test.shape}\")"
   ]
  },
  {
   "cell_type": "code",
   "execution_count": null,
   "id": "d2c7470d-1f84-465d-ab79-c4978ac89ed3",
   "metadata": {},
   "outputs": [],
   "source": [
    "# Print the number of missing values in each column of train and test data\n",
    "print(\"\\nMissing values in train data:\")\n",
    "print(train.isnull().sum())\n",
    "print(\"\\nMissing values in test data:\")\n",
    "print(test.isnull().sum())"
   ]
  },
  {
   "cell_type": "code",
   "execution_count": null,
   "id": "85eb03a4-3857-4a9c-bd60-082a4fd7c5b7",
   "metadata": {},
   "outputs": [],
   "source": [
    "# Data Visualization\n",
    "plt.figure(figsize=(15, 10))\n",
    "\n",
    "plt.subplot(2, 2, 1)\n",
    "sns.countplot(x='Survived', data=train)\n",
    "plt.title('Survival Count')\n",
    "\n",
    "plt.subplot(2, 2, 2)\n",
    "sns.countplot(x='Pclass', data=train)\n",
    "plt.title('Passenger Class Distribution')\n",
    "\n",
    "plt.subplot(2, 2, 3)\n",
    "sns.countplot(x='Sex', data=train)\n",
    "plt.title('Gender Distribution')\n",
    "\n",
    "plt.subplot(2, 2, 4)\n",
    "sns.countplot(x='Embarked', data=train)\n",
    "plt.title('Embarkation Port Distribution')\n",
    "\n",
    "plt.tight_layout()\n",
    "plt.show()"
   ]
  },
  {
   "cell_type": "code",
   "execution_count": null,
   "id": "ac8aa2e4-2243-4c0e-bc06-add4a2eea904",
   "metadata": {},
   "outputs": [],
   "source": [
    "# Histogram of Age, Parch, Fare\n",
    "plt.figure(figsize=(15, 5))\n",
    "\n",
    "plt.subplot(1, 3, 1)\n",
    "sns.histplot(train['Age'].dropna(), bins=30, kde=True)\n",
    "plt.title('Age Distribution')\n",
    "\n",
    "plt.subplot(1, 3, 2)\n",
    "sns.countplot(x='Parch', data=train)\n",
    "plt.title('Parch Distribution')\n",
    "\n",
    "plt.subplot(1, 3, 3)\n",
    "sns.histplot(train['Fare'], bins=30, kde=True)\n",
    "plt.title('Fare Distribution')\n",
    "\n",
    "plt.tight_layout()\n",
    "plt.show()"
   ]
  },
  {
   "cell_type": "code",
   "execution_count": null,
   "id": "f95c3f7c-6308-4904-9e20-0971eff3fc02",
   "metadata": {},
   "outputs": [],
   "source": [
    "\n",
    "# Plot histogram of age for survived and did not survived class\n",
    "plt.figure(figsize=(10, 6))\n",
    "sns.histplot(data=train, x='Age', hue='Survived', bins=30, kde=True, multiple='stack')\n",
    "plt.title('Age Distribution by Survival')\n",
    "plt.show()"
   ]
  },
  {
   "cell_type": "code",
   "execution_count": null,
   "id": "23e4e85e-6b48-4907-99e0-d50acb3d1b04",
   "metadata": {},
   "outputs": [],
   "source": [
    "\n",
    "# Count class and gender wise survival rate\n",
    "plt.figure(figsize=(10, 6))\n",
    "sns.barplot(x='Pclass', y='Survived', hue='Sex', data=train)\n",
    "plt.title('Survival Rate by Class and Gender')\n",
    "plt.show()\n"
   ]
  },
  {
   "cell_type": "code",
   "execution_count": null,
   "id": "f1a009b8-e0a9-404b-9b4d-44610060643a",
   "metadata": {},
   "outputs": [],
   "source": [
    "\n",
    "# Age wise Distribution of Male and Female passengers\n",
    "plt.figure(figsize=(10, 6))\n",
    "sns.histplot(data=train, x='Age', hue='Sex', bins=30, kde=True, multiple='stack')\n",
    "plt.title('Age Distribution by Gender')\n",
    "plt.show()"
   ]
  },
  {
   "cell_type": "code",
   "execution_count": null,
   "id": "1ee6f1ab-426e-4d50-a69b-8dc203374cf3",
   "metadata": {},
   "outputs": [],
   "source": [
    "# Handling Missing Values\n",
    "# Replace the missing values in Embarked column by 'S'\n",
    "train['Embarked'].fillna('S', inplace=True)\n",
    "test['Embarked'].fillna('S', inplace=True)"
   ]
  },
  {
   "cell_type": "code",
   "execution_count": null,
   "id": "9257a618-525d-4d4b-b675-39ade4e92728",
   "metadata": {},
   "outputs": [],
   "source": [
    "# Impute the missing values in Fare column with median value\n",
    "test['Fare'].fillna(test['Fare'].median(), inplace=True)"
   ]
  },
  {
   "cell_type": "code",
   "execution_count": null,
   "id": "24394845-b7ba-470c-937d-5b1f68cb0fe0",
   "metadata": {},
   "outputs": [],
   "source": [
    "\n",
    "# Impute the Age column with random values from same distribution\n",
    "mean_age = train['Age'].mean()\n",
    "std_age = train['Age'].std()\n",
    "null_count = train['Age'].isnull().sum()\n",
    "\n",
    "random_ages = np.random.randint(mean_age - std_age, mean_age + std_age, size=null_count)\n",
    "train.loc[train['Age'].isnull(), 'Age'] = random_ages\n",
    "\n",
    "null_count_test = test['Age'].isnull().sum()\n",
    "random_ages_test = np.random.randint(mean_age - std_age, mean_age + std_age, size=null_count_test)\n",
    "test.loc[test['Age'].isnull(), 'Age'] = random_ages_test"
   ]
  },
  {
   "cell_type": "code",
   "execution_count": null,
   "id": "1333ee5b-edc5-415c-bdf9-d6bbc012ef03",
   "metadata": {},
   "outputs": [],
   "source": [
    "# Feature Engineering\n",
    "# Create FamilySize\n",
    "train['FamilySize'] = train['SibSp'] + train['Parch'] + 1\n",
    "test['FamilySize'] = test['SibSp'] + test['Parch'] + 1"
   ]
  },
  {
   "cell_type": "code",
   "execution_count": null,
   "id": "c3ebe24d-41c6-49e2-a982-fa9e817fb96d",
   "metadata": {},
   "outputs": [],
   "source": [
    "# Create IsAlone\n",
    "train['IsAlone'] = train['FamilySize'] == 1\n",
    "test['IsAlone'] = test['FamilySize'] == 1"
   ]
  },
  {
   "cell_type": "code",
   "execution_count": null,
   "id": "4b7e4fa2-c7eb-4e95-abe0-77d1ea6e5ae2",
   "metadata": {},
   "outputs": [],
   "source": [
    "# Create Has_cabin\n",
    "train['Has_cabin'] = ~train['Cabin'].isnull()\n",
    "test['Has_cabin'] = ~test['Cabin'].isnull()"
   ]
  },
  {
   "cell_type": "code",
   "execution_count": null,
   "id": "78c30e58-16f4-4a0e-bffb-33fff3be2aeb",
   "metadata": {},
   "outputs": [],
   "source": [
    "# Drop unnecessary columns\n",
    "columns_to_drop = ['PassengerId', 'Name', 'Ticket', 'Cabin']\n",
    "train.drop(columns_to_drop, axis=1, inplace=True)\n",
    "test.drop(columns_to_drop, axis=1, inplace=True)\n"
   ]
  },
  {
   "cell_type": "code",
   "execution_count": null,
   "id": "68ef910c-1958-4fb0-9526-e11064710188",
   "metadata": {},
   "outputs": [],
   "source": [
    "\n",
    "\n",
    "# Model Building\n",
    "# Prepare X and y\n",
    "X = train.drop('Survived', axis=1)\n",
    "y = train['Survived']\n"
   ]
  },
  {
   "cell_type": "code",
   "execution_count": null,
   "id": "b085f29c-328a-4e41-b647-b8f8da415343",
   "metadata": {},
   "outputs": [],
   "source": [
    "\n",
    "\n",
    "# Label encoding of categorical features\n",
    "label_encoders = {}\n",
    "categorical_cols = ['Sex', 'Embarked', 'IsAlone', 'Has_cabin']\n",
    "\n",
    "for col in categorical_cols:\n",
    "    le = LabelEncoder()\n",
    "    X[col] = le.fit_transform(X[col])\n",
    "    test[col] = le.transform(test[col])\n",
    "    label_encoders[col] = le"
   ]
  },
  {
   "cell_type": "code",
   "execution_count": null,
   "id": "171822a9-ab02-4b8a-981a-059f96e76366",
   "metadata": {},
   "outputs": [],
   "source": [
    "\n",
    "# Do a pairplot of all features\n",
    "sns.pairplot(pd.concat([X, y], axis=1), hue='Survived')\n",
    "plt.show()"
   ]
  },
  {
   "cell_type": "code",
   "execution_count": null,
   "id": "cf390c17-96a2-4123-a10b-d9fda6b63b98",
   "metadata": {},
   "outputs": [],
   "source": [
    "\n",
    "# Splitting the data into train and validation set\n",
    "X_train, X_val, y_train, y_val = train_test_split(X, y, test_size=0.1, random_state=42)\n",
    "\n",
    "\n",
    "\n"
   ]
  },
  {
   "cell_type": "code",
   "execution_count": null,
   "id": "31348621-cfa1-43ce-8e4a-28faf3e9075e",
   "metadata": {},
   "outputs": [],
   "source": [
    "# Create and fit the model\n",
    "dt_model = DecisionTreeClassifier(random_state=42)\n",
    "dt_model.fit(X_train, y_train)\n"
   ]
  },
  {
   "cell_type": "code",
   "execution_count": null,
   "id": "69eb8411-6c76-432c-8586-b30fc2b5af08",
   "metadata": {},
   "outputs": [],
   "source": [
    "# Print the tree\n",
    "plt.figure(figsize=(20, 10))\n",
    "plot_tree(dt_model, filled=True, feature_names=X.columns, class_names=['Died', 'Survived'], max_depth=3)\n",
    "plt.show()"
   ]
  },
  {
   "cell_type": "code",
   "execution_count": null,
   "id": "28e17a83-c956-4c5d-abc4-a24ebdcde6e8",
   "metadata": {},
   "outputs": [],
   "source": [
    "\n",
    "# Check evaluation metrics on validation set\n",
    "y_pred = dt_model.predict(X_val)\n",
    "\n",
    "print(\"Classification Report:\")\n",
    "print(classification_report(y_val, y_pred))\n",
    "\n",
    "print(\"\\nConfusion Matrix:\")\n",
    "print(confusion_matrix(y_val, y_pred))\n",
    "\n",
    "print(f\"\\nAccuracy: {accuracy_score(y_val, y_pred):.2f}\")"
   ]
  },
  {
   "cell_type": "code",
   "execution_count": null,
   "id": "bcf79226-b84b-49af-8887-53a3d7143e79",
   "metadata": {},
   "outputs": [],
   "source": []
  }
 ],
 "metadata": {
  "kernelspec": {
   "display_name": "Python 3 (ipykernel)",
   "language": "python",
   "name": "python3"
  },
  "language_info": {
   "codemirror_mode": {
    "name": "ipython",
    "version": 3
   },
   "file_extension": ".py",
   "mimetype": "text/x-python",
   "name": "python",
   "nbconvert_exporter": "python",
   "pygments_lexer": "ipython3",
   "version": "3.8.10"
  }
 },
 "nbformat": 4,
 "nbformat_minor": 5
}
