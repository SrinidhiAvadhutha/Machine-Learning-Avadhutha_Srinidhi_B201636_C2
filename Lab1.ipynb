{
 "cells": [
  {
   "cell_type": "code",
   "execution_count": 39,
   "id": "6320f50c-9939-40d4-b583-0e74dd866120",
   "metadata": {},
   "outputs": [],
   "source": [
    "import pandas as pd\n",
    "import seaborn as sns\n",
    "import matplotlib.pyplot as plt"
   ]
  },
  {
   "cell_type": "code",
   "execution_count": 40,
   "id": "b83e34cd-4972-4f76-9f3f-cb55dec524c8",
   "metadata": {},
   "outputs": [
    {
     "name": "stdout",
     "output_type": "stream",
     "text": [
      "   TransactionID TransactionDate  UserID  ProductID  Quantity\n",
      "0              1      2010-08-21     7.0          2         1\n",
      "1              2      2011-05-26     3.0          4         1\n",
      "2              3      2011-06-16     3.0          3         1\n",
      "3              4      2012-08-26     1.0          2         3\n",
      "4              5      2013-06-06     2.0          4         1\n",
      "(10, 5)\n"
     ]
    }
   ],
   "source": [
    "df = pd.read_csv('/home/varikuppalashirishaa/Downloads/transactions.csv')\n",
    "\n",
    "print(df.head(5))\n",
    "print(df.shape)"
   ]
  },
  {
   "cell_type": "code",
   "execution_count": 41,
   "id": "748569f1-ccac-4a3c-b2b6-575239ba4880",
   "metadata": {},
   "outputs": [
    {
     "name": "stdout",
     "output_type": "stream",
     "text": [
      "TransactionID               2\n",
      "TransactionDate    2011-05-26\n",
      "UserID                    3.0\n",
      "ProductID                   4\n",
      "Quantity                    1\n",
      "Name: 1, dtype: object\n"
     ]
    }
   ],
   "source": [
    "print(df.iloc[1]) # access a row with row index"
   ]
  },
  {
   "cell_type": "code",
   "execution_count": 42,
   "id": "4161a2f1-92fa-4c8f-ae63-a37d40ac4bea",
   "metadata": {},
   "outputs": [
    {
     "name": "stdout",
     "output_type": "stream",
     "text": [
      "TransactionID      0\n",
      "TransactionDate    0\n",
      "UserID             1\n",
      "ProductID          0\n",
      "Quantity           0\n",
      "dtype: int64\n"
     ]
    }
   ],
   "source": [
    "print(df.isnull().sum())"
   ]
  },
  {
   "cell_type": "code",
   "execution_count": 43,
   "id": "0aab1051-6b9f-4c93-88d8-a81e0e0aafec",
   "metadata": {},
   "outputs": [],
   "source": [
    "df['UserID'].fillna(df['UserID'].mean(),inplace=True)\n"
   ]
  },
  {
   "cell_type": "code",
   "execution_count": 44,
   "id": "5a02e928-56ac-40ab-ba6f-85ab13ed5073",
   "metadata": {},
   "outputs": [
    {
     "name": "stdout",
     "output_type": "stream",
     "text": [
      "TransactionID      0\n",
      "TransactionDate    0\n",
      "UserID             0\n",
      "ProductID          0\n",
      "Quantity           0\n",
      "dtype: int64\n"
     ]
    }
   ],
   "source": [
    "print(df.isnull().sum())"
   ]
  },
  {
   "cell_type": "code",
   "execution_count": 45,
   "id": "7440bc1c-ef45-43e6-9937-10cf00d82a3f",
   "metadata": {},
   "outputs": [
    {
     "name": "stdout",
     "output_type": "stream",
     "text": [
      "TransactionID      0\n",
      "TransactionDate    0\n",
      "UserID             0\n",
      "ProductID          0\n",
      "Quantity           0\n",
      "dtype: int64\n",
      "(10, 5)\n"
     ]
    }
   ],
   "source": [
    "df.dropna(inplace=True)\n",
    "print(df.isnull().sum())\n",
    "print(df.shape)"
   ]
  },
  {
   "cell_type": "code",
   "execution_count": 46,
   "id": "8a8d348b-beba-4c91-b19b-1cf4933c4685",
   "metadata": {},
   "outputs": [
    {
     "name": "stdout",
     "output_type": "stream",
     "text": [
      "   TransactionID TransactionDate  UserID  ProductID  Quantity\n",
      "0              1      2010-08-21     7.0          2         1\n",
      "1              2      2011-05-26     3.0          4         1\n",
      "2              3      2011-06-16     3.0          3         1\n",
      "3              4      2012-08-26     1.0          2         3\n",
      "4              5      2013-06-06     2.0          4         1\n"
     ]
    }
   ],
   "source": [
    "df_sort = df.sort_values(by = ['TransactionID'],ascending = [True])\n",
    "print(df_sort.head(5))"
   ]
  },
  {
   "cell_type": "code",
   "execution_count": 47,
   "id": "5b4387ef-3147-4222-8af9-b5027089d38b",
   "metadata": {},
   "outputs": [
    {
     "name": "stdout",
     "output_type": "stream",
     "text": [
      "   TransactionID TransactionDate  UserID  ProductID  Quantity\n",
      "0              1      2010-08-21     7.0          2         1\n",
      "2              3      2011-06-16     3.0          3         1\n",
      "5              6      2013-12-23     2.0          5         6\n"
     ]
    }
   ],
   "source": [
    "print(df.iloc[[0,2,5]]) # used to integrate rows with index"
   ]
  },
  {
   "cell_type": "code",
   "execution_count": 48,
   "id": "c5695d5b-cf1a-4ea8-9791-ddbb3d69ca5b",
   "metadata": {},
   "outputs": [
    {
     "name": "stdout",
     "output_type": "stream",
     "text": [
      "   TransactionID TransactionDate  UserID  ProductID  Quantity\n",
      "0              1      2010-08-21     7.0          2         1\n",
      "2              3      2011-06-16     3.0          3         1\n",
      "4              5      2013-06-06     2.0          4         1\n",
      "5              6      2013-12-23     2.0          5         6\n",
      "8              9      2015-04-24     7.0          4         3\n",
      "9             10      2016-05-08     3.0          4         4\n"
     ]
    }
   ],
   "source": [
    "foo = [True,False,True,False,True,True,False,False,True,True]\n",
    "subset = df[foo]\n",
    "print(subset) # filter mask for the rows"
   ]
  },
  {
   "cell_type": "code",
   "execution_count": 49,
   "id": "d40cbc73-56e2-4cbd-80fd-ebb6c01272dd",
   "metadata": {},
   "outputs": [
    {
     "name": "stdout",
     "output_type": "stream",
     "text": [
      "  TransactionDate    UserID\n",
      "3      2012-08-26  1.000000\n",
      "5      2013-12-23  2.000000\n",
      "7      2014-04-24  3.444444\n",
      "8      2015-04-24  7.000000\n",
      "9      2016-05-08  3.000000\n"
     ]
    }
   ],
   "source": [
    "sub = df[df['Quantity']>1][['TransactionDate','UserID']]\n",
    "print(sub.head(5)) # quantity grater tha 1 followed by TransactionDate and UserId"
   ]
  },
  {
   "cell_type": "code",
   "execution_count": 50,
   "id": "1518f235-a3d5-4bef-b038-edbac4f2e431",
   "metadata": {},
   "outputs": [
    {
     "name": "stdout",
     "output_type": "stream",
     "text": [
      "       TransactionID     UserID  ProductID   Quantity\n",
      "count       10.00000  10.000000  10.000000  10.000000\n",
      "mean         5.50000   3.444444   3.400000   2.400000\n",
      "std          3.02765   2.006163   1.074968   1.712698\n",
      "min          1.00000   1.000000   2.000000   1.000000\n",
      "25%          3.25000   2.250000   2.250000   1.000000\n",
      "50%          5.50000   3.000000   4.000000   2.000000\n",
      "75%          7.75000   3.333333   4.000000   3.000000\n",
      "max         10.00000   7.000000   5.000000   6.000000\n"
     ]
    }
   ],
   "source": [
    " # 1.summary of transaction dataset\n",
    "print(df.describe())"
   ]
  },
  {
   "cell_type": "code",
   "execution_count": 51,
   "id": "c97c6c17-6dc9-4e4b-ac00-9e8849644ad4",
   "metadata": {},
   "outputs": [
    {
     "name": "stdout",
     "output_type": "stream",
     "text": [
      "5\n"
     ]
    }
   ],
   "source": [
    " # 2.number of columns\n",
    "print(df.shape[1])"
   ]
  },
  {
   "cell_type": "code",
   "execution_count": 52,
   "id": "eeca5383-cabc-4dcd-88c4-abcb6ffffab8",
   "metadata": {},
   "outputs": [
    {
     "name": "stdout",
     "output_type": "stream",
     "text": [
      "10\n"
     ]
    }
   ],
   "source": [
    "# 3.NUmber of records\n",
    "\n",
    "print(df.shape[0])"
   ]
  },
  {
   "cell_type": "code",
   "execution_count": 53,
   "id": "0269664f-c430-41fa-b6d8-5d3655378956",
   "metadata": {},
   "outputs": [
    {
     "name": "stdout",
     "output_type": "stream",
     "text": [
      "[0, 1, 2, 3, 4, 5, 6, 7, 8, 9]\n"
     ]
    }
   ],
   "source": [
    "# 4. row names\n",
    "\n",
    "print(list(df.index))"
   ]
  },
  {
   "cell_type": "code",
   "execution_count": 54,
   "id": "cc719411-72ac-4849-a54f-97aadda88c6f",
   "metadata": {},
   "outputs": [
    {
     "name": "stdout",
     "output_type": "stream",
     "text": [
      "Index(['TransactionID', 'TransactionDate', 'UserID', 'ProductID', 'Quantity'], dtype='object')\n"
     ]
    }
   ],
   "source": [
    "# 5. Column names\n",
    "\n",
    "print(df.columns)"
   ]
  },
  {
   "cell_type": "code",
   "execution_count": 55,
   "id": "f086d0fe-b8b1-4070-b46c-4e6c20123238",
   "metadata": {},
   "outputs": [
    {
     "name": "stdout",
     "output_type": "stream",
     "text": [
      "   TransactionID TransactionDate    UserID  ProductID  Quantity\n",
      "0              1      2010-08-21  7.000000          2         1\n",
      "1              2      2011-05-26  3.000000          4         1\n",
      "2              3      2011-06-16  3.000000          3         1\n",
      "3              4      2012-08-26  1.000000          2         3\n",
      "4              5      2013-06-06  2.000000          4         1\n",
      "5              6      2013-12-23  2.000000          5         6\n",
      "6              7      2013-12-30  3.000000          4         1\n",
      "7              8      2014-04-24  3.444444          2         3\n",
      "8              9      2015-04-24  7.000000          4         3\n",
      "9             10      2016-05-08  3.000000          4         4\n"
     ]
    }
   ],
   "source": [
    "# 6. Top 10 records\n",
    "print(df.head(10))"
   ]
  },
  {
   "cell_type": "code",
   "execution_count": 56,
   "id": "a46aec35-fce6-4c5d-9674-74c3eb9b7c4a",
   "metadata": {},
   "outputs": [
    {
     "name": "stdout",
     "output_type": "stream",
     "text": [
      "   TransactionID TransactionDate  UserID  ProductID  Quant\n",
      "0              1      2010-08-21     7.0          2      1\n",
      "1              2      2011-05-26     3.0          4      1\n",
      "2              3      2011-06-16     3.0          3      1\n",
      "3              4      2012-08-26     1.0          2      3\n",
      "4              5      2013-06-06     2.0          4      1\n"
     ]
    }
   ],
   "source": [
    "# 7. changing column name\n",
    "\n",
    "df.rename(columns={'Quantity':'Quant'},inplace=True)\n",
    "print(df.head(5))"
   ]
  },
  {
   "cell_type": "code",
   "execution_count": 57,
   "id": "796b8dd9-aece-4bb3-90bd-a29a6b4a238b",
   "metadata": {},
   "outputs": [
    {
     "name": "stdout",
     "output_type": "stream",
     "text": [
      "   TransactionID TransactionDate  UID  PID  Quant\n",
      "0              1      2010-08-21  7.0    2      1\n",
      "1              2      2011-05-26  3.0    4      1\n",
      "2              3      2011-06-16  3.0    3      1\n",
      "3              4      2012-08-26  1.0    2      3\n",
      "4              5      2013-06-06  2.0    4      1\n"
     ]
    }
   ],
   "source": [
    "# 8.changing name of productId and userId to pid and uid\n",
    "\n",
    "df.rename(columns={\"ProductID\":\"PID\",\"UserID\":\"UID\"},inplace=True)\n",
    "print(df.head(5))"
   ]
  },
  {
   "cell_type": "code",
   "execution_count": 58,
   "id": "cd2e98a9-2d28-4416-876d-190c9cc6e590",
   "metadata": {},
   "outputs": [
    {
     "name": "stdout",
     "output_type": "stream",
     "text": [
      "   TransactionID TransactionDate  UID  PID  Quant\n",
      "0              1      2010-08-21  7.0    2      1\n",
      "1              2      2011-05-26  3.0    4      1\n",
      "2              3      2011-06-16  3.0    3      1\n",
      "3              4      2012-08-26  1.0    2      3\n",
      "4              5      2013-06-06  2.0    4      1\n"
     ]
    }
   ],
   "source": [
    "#9. sorting values by transactionId ascending and transaction date Descending\n",
    "df_sort_v = df.sort_values(by=['TransactionID','TransactionDate'],ascending=[True,False])\n",
    "print(df_sort_v.head(5))"
   ]
  },
  {
   "cell_type": "code",
   "execution_count": 59,
   "id": "14893a73-ae79-4b4c-9ca7-30dc46f17277",
   "metadata": {},
   "outputs": [
    {
     "name": "stdout",
     "output_type": "stream",
     "text": [
      "   TransactionID TransactionDate  UID  PID  Quant\n",
      "6              7      2013-12-30  3.0    4      1\n",
      "4              5      2013-06-06  2.0    4      1\n",
      "2              3      2011-06-16  3.0    3      1\n",
      "1              2      2011-05-26  3.0    4      1\n",
      "0              1      2010-08-21  7.0    2      1\n"
     ]
    }
   ],
   "source": [
    "# 10.Order rows by quntity and transactiondate\n",
    "\n",
    "df_sorted = df.sort_values(by=['Quant','TransactionDate'],ascending=[True,False])\n",
    "print(df_sorted.head(5))"
   ]
  },
  {
   "cell_type": "code",
   "execution_count": 60,
   "id": "a1a1802d-1f94-4955-9fa4-662946ea1f30",
   "metadata": {},
   "outputs": [
    {
     "name": "stdout",
     "output_type": "stream",
     "text": [
      "   PID  Quant TransactionDate  TransactionID  UID\n",
      "0    2      1      2010-08-21              1  7.0\n",
      "1    4      1      2011-05-26              2  3.0\n",
      "2    3      1      2011-06-16              3  3.0\n",
      "3    2      3      2012-08-26              4  1.0\n",
      "4    4      1      2013-06-06              5  2.0\n"
     ]
    }
   ],
   "source": [
    "# 11.changes the column order\n",
    "\n",
    "new_order = ['PID', 'Quant', 'TransactionDate', 'TransactionID', 'UID'] \n",
    "print(df[new_order].head(5))\n"
   ]
  },
  {
   "cell_type": "code",
   "execution_count": 61,
   "id": "0864b430-526d-456a-a461-30a8c935c53e",
   "metadata": {},
   "outputs": [
    {
     "name": "stdout",
     "output_type": "stream",
     "text": [
      "   UID  PID  Quant TransactionDate  TransactionID  UID\n",
      "0  7.0    2      1      2010-08-21              1  7.0\n",
      "1  3.0    4      1      2011-05-26              2  3.0\n",
      "2  3.0    3      1      2011-06-16              3  3.0\n",
      "3  1.0    2      3      2012-08-26              4  1.0\n",
      "4  2.0    4      1      2013-06-06              5  2.0\n"
     ]
    }
   ],
   "source": [
    "#12.making useid as first column\n",
    "\n",
    "\n",
    "new = ['UID'] + new_order\n",
    "print(df[new].head(5))"
   ]
  },
  {
   "cell_type": "code",
   "execution_count": 62,
   "id": "d02de629-5a71-441b-a918-83c8906257a2",
   "metadata": {},
   "outputs": [
    {
     "name": "stdout",
     "output_type": "stream",
     "text": [
      "[7.         3.         3.         1.         2.         2.\n",
      " 3.         3.44444444 7.         3.        ]\n"
     ]
    }
   ],
   "source": [
    "# 13 .Extarcting arrays\n",
    "\n",
    "UserId = df['UID'].to_numpy()\n",
    "print(UserId)\n",
    "\n"
   ]
  },
  {
   "cell_type": "code",
   "execution_count": 63,
   "id": "907823e3-0c0b-41c0-be9a-9bfd288782f5",
   "metadata": {},
   "outputs": [
    {
     "name": "stdout",
     "output_type": "stream",
     "text": [
      "[2 4 3 2 4 5 4 2 4 4]\n"
     ]
    }
   ],
   "source": [
    "#14 ProductId arra\n",
    "ProductId = df['PID'].to_numpy()\n",
    "print(ProductId)"
   ]
  },
  {
   "cell_type": "code",
   "execution_count": 64,
   "id": "8de1e77f-5101-43f1-9f5a-5a9156a0b36f",
   "metadata": {},
   "outputs": [
    {
     "name": "stdout",
     "output_type": "stream",
     "text": [
      "   TransactionID TransactionDate  UID  PID  Quant\n",
      "1              2      2011-05-26  3.0    4      1\n",
      "3              4      2012-08-26  1.0    2      3\n",
      "6              7      2013-12-30  3.0    4      1\n"
     ]
    }
   ],
   "source": [
    "#16.printing rows 1,3,6\n",
    "subset =df.iloc[[1,3,6]]\n",
    "print(subset)"
   ]
  },
  {
   "cell_type": "code",
   "execution_count": 65,
   "id": "70d8f705-75bc-41f1-8792-0a6d6228744c",
   "metadata": {},
   "outputs": [
    {
     "name": "stdout",
     "output_type": "stream",
     "text": [
      "   TransactionID TransactionDate       UID  PID  Quant\n",
      "0              1      2010-08-21  7.000000    2      1\n",
      "2              3      2011-06-16  3.000000    3      1\n",
      "4              5      2013-06-06  2.000000    4      1\n",
      "5              6      2013-12-23  2.000000    5      6\n",
      "7              8      2014-04-24  3.444444    2      3\n",
      "8              9      2015-04-24  7.000000    4      3\n",
      "9             10      2016-05-08  3.000000    4      4\n"
     ]
    }
   ],
   "source": [
    "#17. excluding rows 1,3,6\n",
    "subset1 = df.drop([1,3,6],axis=0)\n",
    "print(subset1)"
   ]
  },
  {
   "cell_type": "code",
   "execution_count": 66,
   "id": "646830ef-e510-4912-91e4-6d085583debe",
   "metadata": {},
   "outputs": [
    {
     "name": "stdout",
     "output_type": "stream",
     "text": [
      "   TransactionID TransactionDate  UID  PID  Quant\n",
      "0              1      2010-08-21  7.0    2      1\n",
      "1              2      2011-05-26  3.0    4      1\n",
      "2              3      2011-06-16  3.0    3      1\n"
     ]
    }
   ],
   "source": [
    "#18.subset the first threa rows\n",
    "\n",
    "subset2 = df.head(3)\n",
    "print(subset2)"
   ]
  },
  {
   "cell_type": "code",
   "execution_count": 67,
   "id": "3cfaf2e3-cfdf-4c25-a5ee-935f517c7e88",
   "metadata": {},
   "outputs": [
    {
     "name": "stdout",
     "output_type": "stream",
     "text": [
      "   TransactionID TransactionDate  UID  PID  Quant\n",
      "8              9      2015-04-24  7.0    4      3\n",
      "9             10      2016-05-08  3.0    4      4\n"
     ]
    }
   ],
   "source": [
    "# 19.Subset of last 2 rows\n",
    "\n",
    "subset3 = df.tail(2)\n",
    "print(subset3)\n",
    "\n"
   ]
  },
  {
   "cell_type": "code",
   "execution_count": 68,
   "id": "084df52f-a4a0-41f5-b2a5-aa767465f882",
   "metadata": {},
   "outputs": [
    {
     "name": "stdout",
     "output_type": "stream",
     "text": [
      "   TransactionID TransactionDate       UID  PID  Quant\n",
      "0              1      2010-08-21  7.000000    2      1\n",
      "1              2      2011-05-26  3.000000    4      1\n",
      "2              3      2011-06-16  3.000000    3      1\n",
      "3              4      2012-08-26  1.000000    2      3\n",
      "4              5      2013-06-06  2.000000    4      1\n",
      "5              6      2013-12-23  2.000000    5      6\n",
      "6              7      2013-12-30  3.000000    4      1\n",
      "7              8      2014-04-24  3.444444    2      3\n"
     ]
    }
   ],
   "source": [
    "# 20.subset rows excluding last 2 rows\n",
    "\n",
    "subset4 = df.drop(df.tail(2).index,axis=0)\n",
    "print(subset4)"
   ]
  },
  {
   "cell_type": "code",
   "execution_count": 69,
   "id": "00818fc5-e6a1-4a48-b5ad-1d1385c4e8a8",
   "metadata": {},
   "outputs": [
    {
     "name": "stdout",
     "output_type": "stream",
     "text": [
      "   TransactionID TransactionDate       UID  PID  Quant\n",
      "3              4      2012-08-26  1.000000    2      3\n",
      "4              5      2013-06-06  2.000000    4      1\n",
      "5              6      2013-12-23  2.000000    5      6\n",
      "6              7      2013-12-30  3.000000    4      1\n",
      "7              8      2014-04-24  3.444444    2      3\n",
      "8              9      2015-04-24  7.000000    4      3\n",
      "9             10      2016-05-08  3.000000    4      4\n"
     ]
    }
   ],
   "source": [
    "# 21 subset excluding first 3 rows\n",
    "\n",
    "subset5 = df.drop(df.head(3).index,axis=0)\n",
    "print(subset5)"
   ]
  },
  {
   "cell_type": "code",
   "execution_count": 70,
   "id": "74d715da-b5ea-436b-9ad0-546a1427b7cc",
   "metadata": {},
   "outputs": [
    {
     "name": "stdout",
     "output_type": "stream",
     "text": [
      "   TransactionID TransactionDate       UID  PID  Quant\n",
      "3              4      2012-08-26  1.000000    2      3\n",
      "5              6      2013-12-23  2.000000    5      6\n",
      "7              8      2014-04-24  3.444444    2      3\n",
      "8              9      2015-04-24  7.000000    4      3\n",
      "9             10      2016-05-08  3.000000    4      4\n"
     ]
    }
   ],
   "source": [
    "#22. Subset rows where quantity is > 1\n",
    "\n",
    "subset6 = df[df['Quant']>1]\n",
    "print(subset6)"
   ]
  },
  {
   "cell_type": "code",
   "execution_count": 71,
   "id": "34167fa0-8a0c-4770-8fd0-bf1de08fffb7",
   "metadata": {},
   "outputs": [
    {
     "name": "stdout",
     "output_type": "stream",
     "text": [
      "   TransactionID TransactionDate  UID  PID  Quant\n",
      "4              5      2013-06-06  2.0    4      1\n",
      "5              6      2013-12-23  2.0    5      6\n"
     ]
    }
   ],
   "source": [
    "# 23.subset rows where UId = 2\n",
    "\n",
    "subset7 = df[df['UID']==2]\n",
    "print(subset7)\n",
    "\n"
   ]
  },
  {
   "cell_type": "code",
   "execution_count": 72,
   "id": "d956e0b1-1034-4fb1-b376-316d81d59a47",
   "metadata": {},
   "outputs": [
    {
     "name": "stdout",
     "output_type": "stream",
     "text": [
      "   TransactionID TransactionDate  UID  PID  Quant\n",
      "5              6      2013-12-23  2.0    5      6\n"
     ]
    }
   ],
   "source": [
    "# 24.Subset rows where quantity is greater than 1 and UId = 2\n",
    "subset8 = df[(df['Quant']>1) & (df['UID']==2)]\n",
    "print(subset8)"
   ]
  },
  {
   "cell_type": "code",
   "execution_count": 73,
   "id": "87e37473-1213-4a11-b9a3-9969f3a0db50",
   "metadata": {},
   "outputs": [
    {
     "name": "stdout",
     "output_type": "stream",
     "text": [
      "   TransactionID TransactionDate       UID  PID  Quant\n",
      "0              1      2010-08-21  7.000000    2      1\n",
      "1              2      2011-05-26  3.000000    4      1\n",
      "2              3      2011-06-16  3.000000    3      1\n",
      "3              4      2012-08-26  1.000000    2      3\n",
      "5              6      2013-12-23  2.000000    5      6\n",
      "6              7      2013-12-30  3.000000    4      1\n",
      "7              8      2014-04-24  3.444444    2      3\n",
      "8              9      2015-04-24  7.000000    4      3\n",
      "9             10      2016-05-08  3.000000    4      4\n"
     ]
    }
   ],
   "source": [
    "# 25.Subset rows where quantity +UID > 3\n",
    "\n",
    "subset9 = df[((df['Quant'])+(df['UID']))>3]\n",
    "print(subset9)"
   ]
  },
  {
   "cell_type": "code",
   "execution_count": 74,
   "id": "329380b1-fe67-43f2-9025-d4734a28487c",
   "metadata": {},
   "outputs": [
    {
     "name": "stdout",
     "output_type": "stream",
     "text": [
      "   TransactionID TransactionDate  UID  PID  Quant\n",
      "0              1      2010-08-21  7.0    2      1\n",
      "2              3      2011-06-16  3.0    3      1\n",
      "4              5      2013-06-06  2.0    4      1\n",
      "5              6      2013-12-23  2.0    5      6\n",
      "8              9      2015-04-24  7.0    4      3\n",
      "9             10      2016-05-08  3.0    4      4\n"
     ]
    }
   ],
   "source": [
    "# 26. subset rows where an external array foo is  True\n",
    "\n",
    "foo = [True,False,True,False,True,True,False,False,True,True]\n",
    "subset = df[foo]\n",
    "print(subset)"
   ]
  },
  {
   "cell_type": "code",
   "execution_count": 75,
   "id": "121b16c5-ec27-4254-b490-9d99f7a6ef0e",
   "metadata": {},
   "outputs": [
    {
     "name": "stdout",
     "output_type": "stream",
     "text": [
      "   TransactionID TransactionDate  UID  PID  Quant  foo\n",
      "0              1      2010-08-21  7.0    2      1  9.0\n",
      "1              2      2011-05-26  3.0    4      1  7.0\n",
      "2              3      2011-06-16  3.0    3      1  6.0\n",
      "3              4      2012-08-26  1.0    2      3  3.0\n",
      "4              5      2013-06-06  2.0    4      1  6.0\n"
     ]
    }
   ],
   "source": [
    "# 37 Inserting new row\n",
    "\n",
    "df['foo'] = df['UID'] + df['PID']\n",
    "print(df.head(5))"
   ]
  },
  {
   "cell_type": "code",
   "execution_count": 77,
   "id": "ebbbf9c6-0b05-4f4d-bba9-ac5c6fb88312",
   "metadata": {},
   "outputs": [
    {
     "data": {
      "image/png": "[encoded data removed]",
      "text/plain": [
       "<Figure size 640x480 with 1 Axes>"
      ]
     },
     "metadata": {},
     "output_type": "display_data"
    }
   ],
   "source": [
    "sns.barplot(x='PID', y='UID', data=df)\n",
    "plt.title('Bar Chart from Dataset')\n",
    "plt.show()"
   ]
  },
  {
   "cell_type": "code",
   "execution_count": 92,
   "id": "6cc409eb-74eb-4de9-ad77-2bb9b864fca3",
   "metadata": {},
   "outputs": [
    {
     "ename": "KeyError",
     "evalue": "'Item'",
     "output_type": "error",
     "traceback": [
      "\u001b[0;31m---------------------------------------------------------------------------\u001b[0m",
      "\u001b[0;31mKeyError\u001b[0m                                  Traceback (most recent call last)",
      "Cell \u001b[0;32mIn[92], line 6\u001b[0m\n\u001b[1;32m      2\u001b[0m \u001b[38;5;28;01mimport\u001b[39;00m \u001b[38;5;21;01mmatplotlib\u001b[39;00m\u001b[38;5;21;01m.\u001b[39;00m\u001b[38;5;21;01mpyplot\u001b[39;00m \u001b[38;5;28;01mas\u001b[39;00m \u001b[38;5;21;01mplt\u001b[39;00m\n\u001b[1;32m      5\u001b[0m \u001b[38;5;66;03m# Group by Item and sum quantities\u001b[39;00m\n\u001b[0;32m----> 6\u001b[0m item_data \u001b[38;5;241m=\u001b[39m \u001b[43mdf\u001b[49m\u001b[38;5;241;43m.\u001b[39;49m\u001b[43mgroupby\u001b[49m\u001b[43m(\u001b[49m\u001b[38;5;124;43m'\u001b[39;49m\u001b[38;5;124;43mItem\u001b[39;49m\u001b[38;5;124;43m'\u001b[39;49m\u001b[43m)\u001b[49m[\u001b[38;5;124m'\u001b[39m\u001b[38;5;124mQuantity\u001b[39m\u001b[38;5;124m'\u001b[39m]\u001b[38;5;241m.\u001b[39msum()\n\u001b[1;32m      8\u001b[0m \u001b[38;5;66;03m# Plot pie chart\u001b[39;00m\n\u001b[1;32m      9\u001b[0m plt\u001b[38;5;241m.\u001b[39mfigure(figsize\u001b[38;5;241m=\u001b[39m(\u001b[38;5;241m8\u001b[39m, \u001b[38;5;241m8\u001b[39m))\n",
      "File \u001b[0;32m~/.local/lib/python3.8/site-packages/pandas/core/frame.py:8252\u001b[0m, in \u001b[0;36mDataFrame.groupby\u001b[0;34m(self, by, axis, level, as_index, sort, group_keys, observed, dropna)\u001b[0m\n\u001b[1;32m   8249\u001b[0m     \u001b[38;5;28;01mraise\u001b[39;00m \u001b[38;5;167;01mTypeError\u001b[39;00m(\u001b[38;5;124m\"\u001b[39m\u001b[38;5;124mYou have to supply one of \u001b[39m\u001b[38;5;124m'\u001b[39m\u001b[38;5;124mby\u001b[39m\u001b[38;5;124m'\u001b[39m\u001b[38;5;124m and \u001b[39m\u001b[38;5;124m'\u001b[39m\u001b[38;5;124mlevel\u001b[39m\u001b[38;5;124m'\u001b[39m\u001b[38;5;124m\"\u001b[39m)\n\u001b[1;32m   8250\u001b[0m axis \u001b[38;5;241m=\u001b[39m \u001b[38;5;28mself\u001b[39m\u001b[38;5;241m.\u001b[39m_get_axis_number(axis)\n\u001b[0;32m-> 8252\u001b[0m \u001b[38;5;28;01mreturn\u001b[39;00m \u001b[43mDataFrameGroupBy\u001b[49m\u001b[43m(\u001b[49m\n\u001b[1;32m   8253\u001b[0m \u001b[43m    \u001b[49m\u001b[43mobj\u001b[49m\u001b[38;5;241;43m=\u001b[39;49m\u001b[38;5;28;43mself\u001b[39;49m\u001b[43m,\u001b[49m\n\u001b[1;32m   8254\u001b[0m \u001b[43m    \u001b[49m\u001b[43mkeys\u001b[49m\u001b[38;5;241;43m=\u001b[39;49m\u001b[43mby\u001b[49m\u001b[43m,\u001b[49m\n\u001b[1;32m   8255\u001b[0m \u001b[43m    \u001b[49m\u001b[43maxis\u001b[49m\u001b[38;5;241;43m=\u001b[39;49m\u001b[43maxis\u001b[49m\u001b[43m,\u001b[49m\n\u001b[1;32m   8256\u001b[0m \u001b[43m    \u001b[49m\u001b[43mlevel\u001b[49m\u001b[38;5;241;43m=\u001b[39;49m\u001b[43mlevel\u001b[49m\u001b[43m,\u001b[49m\n\u001b[1;32m   8257\u001b[0m \u001b[43m    \u001b[49m\u001b[43mas_index\u001b[49m\u001b[38;5;241;43m=\u001b[39;49m\u001b[43mas_index\u001b[49m\u001b[43m,\u001b[49m\n\u001b[1;32m   8258\u001b[0m \u001b[43m    \u001b[49m\u001b[43msort\u001b[49m\u001b[38;5;241;43m=\u001b[39;49m\u001b[43msort\u001b[49m\u001b[43m,\u001b[49m\n\u001b[1;32m   8259\u001b[0m \u001b[43m    \u001b[49m\u001b[43mgroup_keys\u001b[49m\u001b[38;5;241;43m=\u001b[39;49m\u001b[43mgroup_keys\u001b[49m\u001b[43m,\u001b[49m\n\u001b[1;32m   8260\u001b[0m \u001b[43m    \u001b[49m\u001b[43mobserved\u001b[49m\u001b[38;5;241;43m=\u001b[39;49m\u001b[43mobserved\u001b[49m\u001b[43m,\u001b[49m\n\u001b[1;32m   8261\u001b[0m \u001b[43m    \u001b[49m\u001b[43mdropna\u001b[49m\u001b[38;5;241;43m=\u001b[39;49m\u001b[43mdropna\u001b[49m\u001b[43m,\u001b[49m\n\u001b[1;32m   8262\u001b[0m \u001b[43m\u001b[49m\u001b[43m)\u001b[49m\n",
      "File \u001b[0;32m~/.local/lib/python3.8/site-packages/pandas/core/groupby/groupby.py:931\u001b[0m, in \u001b[0;36mGroupBy.__init__\u001b[0;34m(self, obj, keys, axis, level, grouper, exclusions, selection, as_index, sort, group_keys, observed, dropna)\u001b[0m\n\u001b[1;32m    928\u001b[0m \u001b[38;5;28mself\u001b[39m\u001b[38;5;241m.\u001b[39mdropna \u001b[38;5;241m=\u001b[39m dropna\n\u001b[1;32m    930\u001b[0m \u001b[38;5;28;01mif\u001b[39;00m grouper \u001b[38;5;129;01mis\u001b[39;00m \u001b[38;5;28;01mNone\u001b[39;00m:\n\u001b[0;32m--> 931\u001b[0m     grouper, exclusions, obj \u001b[38;5;241m=\u001b[39m \u001b[43mget_grouper\u001b[49m\u001b[43m(\u001b[49m\n\u001b[1;32m    932\u001b[0m \u001b[43m        \u001b[49m\u001b[43mobj\u001b[49m\u001b[43m,\u001b[49m\n\u001b[1;32m    933\u001b[0m \u001b[43m        \u001b[49m\u001b[43mkeys\u001b[49m\u001b[43m,\u001b[49m\n\u001b[1;32m    934\u001b[0m \u001b[43m        \u001b[49m\u001b[43maxis\u001b[49m\u001b[38;5;241;43m=\u001b[39;49m\u001b[43maxis\u001b[49m\u001b[43m,\u001b[49m\n\u001b[1;32m    935\u001b[0m \u001b[43m        \u001b[49m\u001b[43mlevel\u001b[49m\u001b[38;5;241;43m=\u001b[39;49m\u001b[43mlevel\u001b[49m\u001b[43m,\u001b[49m\n\u001b[1;32m    936\u001b[0m \u001b[43m        \u001b[49m\u001b[43msort\u001b[49m\u001b[38;5;241;43m=\u001b[39;49m\u001b[43msort\u001b[49m\u001b[43m,\u001b[49m\n\u001b[1;32m    937\u001b[0m \u001b[43m        \u001b[49m\u001b[43mobserved\u001b[49m\u001b[38;5;241;43m=\u001b[39;49m\u001b[43mobserved\u001b[49m\u001b[43m,\u001b[49m\n\u001b[1;32m    938\u001b[0m \u001b[43m        \u001b[49m\u001b[43mdropna\u001b[49m\u001b[38;5;241;43m=\u001b[39;49m\u001b[38;5;28;43mself\u001b[39;49m\u001b[38;5;241;43m.\u001b[39;49m\u001b[43mdropna\u001b[49m\u001b[43m,\u001b[49m\n\u001b[1;32m    939\u001b[0m \u001b[43m    \u001b[49m\u001b[43m)\u001b[49m\n\u001b[1;32m    941\u001b[0m \u001b[38;5;28mself\u001b[39m\u001b[38;5;241m.\u001b[39mobj \u001b[38;5;241m=\u001b[39m obj\n\u001b[1;32m    942\u001b[0m \u001b[38;5;28mself\u001b[39m\u001b[38;5;241m.\u001b[39maxis \u001b[38;5;241m=\u001b[39m obj\u001b[38;5;241m.\u001b[39m_get_axis_number(axis)\n",
      "File \u001b[0;32m~/.local/lib/python3.8/site-packages/pandas/core/groupby/grouper.py:985\u001b[0m, in \u001b[0;36mget_grouper\u001b[0;34m(obj, key, axis, level, sort, observed, validate, dropna)\u001b[0m\n\u001b[1;32m    983\u001b[0m         in_axis, level, gpr \u001b[38;5;241m=\u001b[39m \u001b[38;5;28;01mFalse\u001b[39;00m, gpr, \u001b[38;5;28;01mNone\u001b[39;00m\n\u001b[1;32m    984\u001b[0m     \u001b[38;5;28;01melse\u001b[39;00m:\n\u001b[0;32m--> 985\u001b[0m         \u001b[38;5;28;01mraise\u001b[39;00m \u001b[38;5;167;01mKeyError\u001b[39;00m(gpr)\n\u001b[1;32m    986\u001b[0m \u001b[38;5;28;01melif\u001b[39;00m \u001b[38;5;28misinstance\u001b[39m(gpr, Grouper) \u001b[38;5;129;01mand\u001b[39;00m gpr\u001b[38;5;241m.\u001b[39mkey \u001b[38;5;129;01mis\u001b[39;00m \u001b[38;5;129;01mnot\u001b[39;00m \u001b[38;5;28;01mNone\u001b[39;00m:\n\u001b[1;32m    987\u001b[0m     \u001b[38;5;66;03m# Add key to exclusions\u001b[39;00m\n\u001b[1;32m    988\u001b[0m     exclusions\u001b[38;5;241m.\u001b[39madd(gpr\u001b[38;5;241m.\u001b[39mkey)\n",
      "\u001b[0;31mKeyError\u001b[0m: 'Item'"
     ]
    }
   ],
   "source": [
    "import pandas as pd\n",
    "import matplotlib.pyplot as plt\n",
    "\n",
    "\n",
    "# Group by Item and sum quantities\n",
    "item_data = df.groupby('Item')['Quantity'].sum()\n",
    "\n",
    "# Plot pie chart\n",
    "plt.figure(figsize=(8, 8))\n",
    "plt.pie(item_data, labels=item_data.index, autopct='%1.1f%%', startangle=90)\n",
    "plt.title('Total Quantity by Item')\n",
    "plt.axis('equal')  # Ensures it’s a perfect circle\n",
    "plt.show()\n"
   ]
  },
  {
   "cell_type": "code",
   "execution_count": 90,
   "id": "4502f568-0174-49fc-9a67-c9e0ba93db9e",
   "metadata": {},
   "outputs": [
    {
     "name": "stdout",
     "output_type": "stream",
     "text": [
      "Accuracy: 0.5\n",
      "Precision: 0.5\n",
      "Recall: 1.0\n",
      "F1 Score: 0.6666666666666666\n",
      "\n",
      "Classification Report:\n",
      "               precision    recall  f1-score   support\n",
      "\n",
      "           1       0.50      1.00      0.67         1\n",
      "           3       0.00      0.00      0.00         1\n",
      "\n",
      "    accuracy                           0.50         2\n",
      "   macro avg       0.25      0.50      0.33         2\n",
      "weighted avg       0.25      0.50      0.33         2\n",
      "\n"
     ]
    },
    {
     "name": "stderr",
     "output_type": "stream",
     "text": [
      "/home/varikuppalashirishaa/.local/lib/python3.8/site-packages/sklearn/metrics/_classification.py:1471: UndefinedMetricWarning: Precision and F-score are ill-defined and being set to 0.0 in labels with no predicted samples. Use `zero_division` parameter to control this behavior.\n",
      "  _warn_prf(average, modifier, msg_start, len(result))\n",
      "/home/varikuppalashirishaa/.local/lib/python3.8/site-packages/sklearn/metrics/_classification.py:1471: UndefinedMetricWarning: Precision and F-score are ill-defined and being set to 0.0 in labels with no predicted samples. Use `zero_division` parameter to control this behavior.\n",
      "  _warn_prf(average, modifier, msg_start, len(result))\n",
      "/home/varikuppalashirishaa/.local/lib/python3.8/site-packages/sklearn/metrics/_classification.py:1471: UndefinedMetricWarning: Precision and F-score are ill-defined and being set to 0.0 in labels with no predicted samples. Use `zero_division` parameter to control this behavior.\n",
      "  _warn_prf(average, modifier, msg_start, len(result))\n"
     ]
    }
   ],
   "source": [
    "import pandas as pd\n",
    "from sklearn.model_selection import train_test_split\n",
    "from sklearn.linear_model import LogisticRegression\n",
    "from sklearn.metrics import accuracy_score, precision_score, recall_score, f1_score, classification_report\n",
    "df = df.drop('TransactionDate',axis=1)\n",
    "\n",
    "# 3. Define features (X) and target (y)\n",
    "# Replace 'TargetColumn' with your actual label column name\n",
    "X = df.drop('Quant', axis=1)\n",
    "y = df['Quant']\n",
    "\n",
    "# Optional: Handle categorical columns, missing data, etc.\n",
    "\n",
    "# 4. Split into train/test sets\n",
    "X_train, X_test, y_train, y_test = train_test_split(X, y, test_size=0.2, random_state=42)\n",
    "\n",
    "# 5. Train a model\n",
    "model = LogisticRegression(max_iter=1000)\n",
    "model.fit(X_train, y_train)\n",
    "\n",
    "# 6. Predict\n",
    "y_pred = model.predict(X_test)\n",
    "\n",
    "# 7. Evaluate\n",
    "print(\"Accuracy:\", accuracy_score(y_test, y_pred))\n",
    "print(\"Precision:\", precision_score(y_test, y_pred, average='binary'))  # Use 'macro' or 'weighted' for multiclass\n",
    "print(\"Recall:\", recall_score(y_test, y_pred, average='binary'))\n",
    "print(\"F1 Score:\", f1_score(y_test, y_pred, average='binary'))\n",
    "\n",
    "# Optional: full report\n",
    "print(\"\\nClassification Report:\\n\", classification_report(y_test, y_pred))\n"
   ]
  }
 ],
 "metadata": {
  "kernelspec": {
   "display_name": "Python 3 (ipykernel)",
   "language": "python",
   "name": "python3"
  },
  "language_info": {
   "codemirror_mode": {
    "name": "ipython",
    "version": 3
   },
   "file_extension": ".py",
   "mimetype": "text/x-python",
   "name": "python",
   "nbconvert_exporter": "python",
   "pygments_lexer": "ipython3",
   "version": "3.8.10"
  }
 },
 "nbformat": 4,
 "nbformat_minor": 5
}
